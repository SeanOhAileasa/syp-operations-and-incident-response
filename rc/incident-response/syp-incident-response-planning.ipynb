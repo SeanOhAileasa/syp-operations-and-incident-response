{
 "cells": [
  {
   "cell_type": "markdown",
   "id": "d4ee9e4b",
   "metadata": {},
   "source": [
    "***\n",
    "< [Home](https://github.com/SeanOhAileasa) | [README](https://github.com/SeanOhAileasa/syp-operations-and-incident-response/blob/main/README.md) >\n",
    "\n",
    "## CompTIA Security+ - Course Material 2022\n",
    "###### Topic: ``Incident Response Planning``\n",
    "***"
   ]
  },
  {
   "cell_type": "markdown",
   "id": "b82b07fb",
   "metadata": {},
   "source": [
    "Course material for the ``CompTIA Security+`` module of the ``ICT Associate Apprenticeship (Cybersecurity)`` programme."
   ]
  },
  {
   "cell_type": "markdown",
   "id": "e7228f57",
   "metadata": {},
   "source": [
    "<a id=\"top\"></a>\n",
    "***\n",
    "## Table of Contents\n",
    "***"
   ]
  },
  {
   "cell_type": "markdown",
   "id": "c2bb5e7b",
   "metadata": {},
   "source": [
    "### [Incident Response Planning](#a) <br/><br/>\n",
    "\n",
    "- [Exercises](#b) <br/><br/>\n",
    "    - [Tabletop](#c) <br/><br/>\n",
    "        - [Walkthrough](#d) <br/><br/>\n",
    "            - [Simulation](#e) <br/><br/>\n",
    "- [Stakeholder Management](#f) <br/><br/>\n",
    "    - [Communication Plan](#g) <br/><br/>\n",
    "    - [Disaster Recovery Plan](#h) <br/><br/>\n",
    "    - [Continuity of Operations Planning](#i) <br/><br/>\n",
    "        - [``COOP``](#i) <br/><br/>\n",
    "- [Incident Response Team](#j) <br/><br/>\n",
    "- [Retention Policies](#k) \n",
    "<hr width=50%;>"
   ]
  },
  {
   "cell_type": "markdown",
   "id": "bf2b95e2",
   "metadata": {},
   "source": [
    "***\n",
    "## END"
   ]
  },
  {
   "cell_type": "markdown",
   "id": "34aa6eb5",
   "metadata": {},
   "source": [
    "< [Table of Contents](#top) | [References](#references) >\n",
    "<a id=\"a\"></a>\n",
    "***\n",
    "### Incident Response Planning\n",
    "***"
   ]
  },
  {
   "cell_type": "markdown",
   "id": "84b00380",
   "metadata": {},
   "source": [
    "< [Table of Contents](#top) | [References](#references) >\n",
    "<a id=\"b\"></a>\n",
    "***\n",
    "###### Exercises\n",
    "***"
   ]
  },
  {
   "cell_type": "markdown",
   "id": "66a0cf39",
   "metadata": {},
   "source": [
    "Usually when we talk about security incidents, it’s usually after the fact, when one has already occurred but much of your work is going to be done well before an incident ever occurs in your environment and there are a number of things you can do prior to an incident occurring that can help you with the planning process.\n",
    "\n",
    "The first step is going to be performing exercises. It’s going to be testing yourself, and everyone in your organization, on what they would do if an incident occurs - these can be scheduled, so you might have them once a year, or twice a year, or even more, so that everybody becomes accustomed to what they would do during an incident.\n",
    "\n",
    "We want to be very careful that when we’re performing these exercises that we’re not affecting anything related to our production networks. Although this incident is probably something that would affect our production network, we want to be sure that we don’t touch anything with our production network during these exercises.\n",
    "\n",
    "Some security events could take weeks, or even months, to resolve but when you’re performing these exercises, you have a limited amount of time, so any event that you plan to do needs to have a narrow focus that you can complete in a certain amount of time.\n",
    "\n",
    "Once the exercise is over, we can look at our documentation and determine how we were able to perform during this particular test. "
   ]
  },
  {
   "cell_type": "markdown",
   "id": "b4da2efe",
   "metadata": {},
   "source": [
    "< [Table of Contents](#top) | [References](#references) >\n",
    "<a id=\"c\"></a>\n",
    "***\n",
    "###### Tabletop\n",
    "***"
   ]
  },
  {
   "cell_type": "markdown",
   "id": "2bace889",
   "metadata": {},
   "source": [
    "Going through the process of getting everyone together, performing a full scale test of a particular security incident, and being able to go through from the very beginning to the very end – these full scale drills can take a lot of time to complete, and they’re very costly because you have so many people and so many resources involved in this disaster drill.\n",
    "\n",
    "But many of the challenges that we have during these incidents are logistical issues - they might also be related to what process we follow whenever an incident occurs and because of that, we don’t necessarily have to go through a physical drill to be able to find these issues, instead, we can talk through the drill occurring to determine what we would do first, what we would do second, and continue through the entire process.\n",
    "\n",
    "We call these types of drills tabletop exercises, because we’re getting everyone around the table, we’re being presented with a particular scenario, and then we’re stepping through what we would do if this particular incident occurred, instead of actually performing the tasks.\n",
    "\n",
    "This means that everyone in the room can step through what they would be doing - they can discuss the process with others in the organization and you may be able to find places where the process you’re following doesn’t match what other people were expecting, and you can resolve those process and procedure problems before an actual incident occurs."
   ]
  },
  {
   "cell_type": "markdown",
   "id": "7b10c3a2",
   "metadata": {},
   "source": [
    "< [Table of Contents](#top) | [References](#references) >\n",
    "<a id=\"d\"></a>\n",
    "***\n",
    "###### Walkthrough\n",
    "***"
   ]
  },
  {
   "cell_type": "markdown",
   "id": "3fb365d6",
   "metadata": {},
   "source": [
    "There may be times when you want to go one step beyond a tabletop exercise, and have all of the players step through everything they would do if an incident occurred - this would be a walkthrough and this allows you to test all of your processes and procedures, not only with the management of your organization, but with everyone who would be responding to this particular incident.\n",
    "\n",
    "This would involve all the different parts of the organization, and you would use all of the tools that you would normally have available to you. \n",
    "\n",
    "This allows you to go through every process and procedure and see how it would work if you were to actually perform it, so you could grab your tool kit, you can make sure that all the software and hardware that you’re using is ready to go, you could see if you have all of the software up to date, and you want to be sure that it’s working properly and if you run into a problem, you can resolve it now during the walkthrough, rather than waiting for an actual event to occur."
   ]
  },
  {
   "cell_type": "markdown",
   "id": "1ce9ff85",
   "metadata": {},
   "source": [
    "< [Table of Contents](#top) | [References](#references) >\n",
    "<a id=\"e\"></a>\n",
    "***\n",
    "###### Simulation\n",
    "***"
   ]
  },
  {
   "cell_type": "markdown",
   "id": "55fabce4",
   "metadata": {},
   "source": [
    "Many organizations perform ongoing simulations where they will pretend that a particular event has occurred, and see how people in the organization respond to that. \n",
    "\n",
    "A good example of this would be a phishing attack or a password request and you can see how many people would click on that phishing attempt and provide credentials to what would be a simulated attacker.\n",
    "\n",
    "This usually starts with creating an email that would entice people to click on information inside of that message, and ultimately provide their login credentials - this could be sent to individual users or groups of users and then you can check your reports to see who click through, and who provided those credentials.\n",
    "\n",
    "If you’re sending this email through from the outside, you can also test your anti-phishing mechanisms to see if those email filters are working the way you would expect and if the phishing got through your filter, you may have to modify the filter so that it doesn’t get to your users.\n",
    "\n",
    "Ultimately, you’ll have a list of all of the users that received the email - will know exactly who clicked on links in the email and ultimately, you’ll know who provided credentials once they click through that link. \n",
    "\n",
    "At that point, it’s very common to take that group of folks who click through and send them to specific anti-phishing training, so they know what not to do the next time they receive one of these messages."
   ]
  },
  {
   "cell_type": "markdown",
   "id": "d87809fd",
   "metadata": {},
   "source": [
    "< [Table of Contents](#top) | [References](#references) >\n",
    "<a id=\"f\"></a>\n",
    "***\n",
    "###### Stakeholder Management\n",
    "***"
   ]
  },
  {
   "cell_type": "markdown",
   "id": "6345d983",
   "metadata": {},
   "source": [
    "An IT department doesn’t commonly operate in a vacuum - there are usually customers of IT that have applications, data, and other technical resources that the IT department is managing for them - these are the stakeholders in your organization, and when something is not working properly, it’s the stakeholders that are going to be suffering, so it’s always a good idea to maintain a good relationship with your stakeholders - involve them in the planning process for these types of security events and if there is an event that occurs, you can bring them in and have them involved in the resolution process.\n",
    "\n",
    "Most of this relationship building, though, doesn’t occur when an event happens, it occurs prior to the event - often years before an event would occur - there’s ongoing communication and meetings to make sure that everyone is involved in the process and if you do have a security exercise, it’s important to involve all of your stakeholders. \n",
    "\n",
    "Of course, once the event or the exercise is over, you want to continue to involve them in the process, so they know exactly what to expect if a security event occurs."
   ]
  },
  {
   "cell_type": "markdown",
   "id": "1256d7bf",
   "metadata": {},
   "source": [
    "< [Table of Contents](#top) | [References](#references) >\n",
    "<a id=\"g\"></a>\n",
    "***\n",
    "###### Communication Plan\n",
    "***"
   ]
  },
  {
   "cell_type": "markdown",
   "id": "ee95c06f",
   "metadata": {},
   "source": [
    "Many of the problems that occur during a high stress event can be mitigated by simply having a good line of communication, so if you are planning for a security event, you want to be sure that your contact list is up to date and has all of the current information, so that you can contact everybody who needs to be informed.\n",
    "\n",
    "In your organization, this could include your CIO - could have a Head of Information Security, and of course, your internal response teams would be involved and you’ll certainly need to involve people who are not in the IT organization, such as human resources, your PR group, and your legal team and in some cases, you may need to call in external resources, such as the owner of the data, or perhaps federal or state authorities. If you’re part of a US government agency, you may need to call US-CERT, which is our Computer Emergency Readiness Team."
   ]
  },
  {
   "cell_type": "markdown",
   "id": "47707114",
   "metadata": {},
   "source": [
    "< [Table of Contents](#top) | [References](#references) >\n",
    "<a id=\"h\"></a>\n",
    "***\n",
    "###### Disaster Recovery Plan\n",
    "***"
   ]
  },
  {
   "cell_type": "markdown",
   "id": "829435ff",
   "metadata": {},
   "source": [
    "One type of security incident that’s important to plan for is a disaster. The IT team is responsible for the uptime and availability of all the data, and very often a disaster is going to affect that uptime and availability.\n",
    "\n",
    "These disasters can present themselves in many different ways. It might be a flood, or hurricane, or a fire or perhaps you’ve had a system failure, or a technology failure in your software, or your hardware and of course, human beings can cause our own types of disasters, someone doing construction could accidentally cut through a water line that’s directly above your data center, or you may overload a circuit on your power system and cause an entire floor’s power to go out.\n",
    "\n",
    "All of these situations need to have a comprehensive disaster recovery plan so you know exactly what to do, and when to do it - this may involve recovery at your current location, or you may have to use a different location for recovery.\n",
    "\n",
    "Also have to think about where your data is stored, and what it would take to recover that data if you weren’t able to access it inside of your own building and once that data is recovered, we need the applications to go along with it and we need to make sure that we have the personnel in your IT department to be able to build all of these new systems, should a disaster occur."
   ]
  },
  {
   "cell_type": "markdown",
   "id": "9adeceaf",
   "metadata": {},
   "source": [
    "< [Table of Contents](#top) | [References](#references) >\n",
    "<a id=\"i\"></a>\n",
    "***\n",
    "###### Continuity of Operations Planning - ``COOP``\n",
    "***"
   ]
  },
  {
   "cell_type": "markdown",
   "id": "f391e3d6",
   "metadata": {},
   "source": [
    "When a disaster or security incident occurs, we need to find some other way to get our job done and often, this will require Continuity of Operations Planning, or ``COOP`` - this is something that we would put together well before a disaster occurring, so that we know what to do if we don’t have our normal systems in place.\n",
    "\n",
    "We rely constantly on the technology that we’ve created, and we often don’t even think about how we would perform our job functions if we didn’t have our laptop, or smartphone, or any of our other technology. \n",
    "\n",
    "But of course, there needs to be some type of alternative because this technology may not be available during a disaster, so we might use manual transactions that we’ve created on paper receipts, and instead of using automated transaction approvals, we would pick up the phone and call someone to get those approvals. \n",
    "\n",
    "If we have to use these processes, it will probably be painful and less efficient than our technology, but at least we’d be able to get some of our work done but we want to be sure that all of these contingencies are well documented prior to a security event occurring."
   ]
  },
  {
   "cell_type": "markdown",
   "id": "fd680b58",
   "metadata": {},
   "source": [
    "< [Table of Contents](#top) | [References](#references) >\n",
    "<a id=\"j\"></a>\n",
    "***\n",
    "###### Incident Response Team\n",
    "***"
   ]
  },
  {
   "cell_type": "markdown",
   "id": "db32526a",
   "metadata": {},
   "source": [
    "Inside of our organization, we need to have a group of professionals who have been trained to respond to these security incidents - this is our Incident Response Team, and they have been specifically trained to deal with these types of problems.\n",
    "\n",
    "They first would determine what type of incident is occurring, and what type of response does it need, for example, a virus infection has a certain set of responses that may involve a small group of people but something like ransomware, or a distributed denial of service attack, may involve a larger group of people in your organization.\n",
    "\n",
    "The Incident Response Team may not be a separate department within your organization, but instead may be a group of people that come together in a committee if an incident occurs - this means they can be pulled in when a response is needed, and when no security incident has occurred, they can go back to doing their normal day-to-day job.\n",
    "\n",
    "This is the team within your organization that responds to any incidents that might be occurring - they provide the analysis of what is occurring, and what needs to be done to resolve it and they provide the reporting that gives us the information we need to make our networks even stronger for the next incident."
   ]
  },
  {
   "cell_type": "markdown",
   "id": "d438e44b",
   "metadata": {},
   "source": [
    "< [Table of Contents](#top) | [References](#references) >\n",
    "<a id=\"k\"></a>\n",
    "***\n",
    "###### Retention Policies\n",
    "***"
   ]
  },
  {
   "cell_type": "markdown",
   "id": "ffa75ee7",
   "metadata": {},
   "source": [
    "If you’re involved in a security incident, the first thing you’re going to think about is how much data is going to be affected by this? \n",
    "\n",
    "The data is some of the most valuable assets that your organization has, so you want to be sure that you have backups of everything but perhaps more important, especially during a security incident, where is that data located, and how much of it do you have?\n",
    "\n",
    "You need to make sure that you have copies of this information, some of it might be on site, some of it may be off site - there may be different life cycles of this data that is stored in different ways, depending on how you’re storing the information and there may be data that is purged or deleted after a certain amount of time has gone by.\n",
    "\n",
    "Some organizations are also required to store certain types of information for a certain amount of time - this regulatory compliance may affect financial organizations, or organizations that deal with certain types of data.\n",
    "\n",
    "There might also be very good reasons to have this backup available for operational problems, for example, someone could accidentally delete data, and we need an easy way to restore that data, if needed or if there’s a disaster, and a flood or fire happens to take out all of your storage systems, you need to have some way to restore that data from the backup.\n",
    "\n",
    "Of course, not all of the data in your organization has the same priority or the same criticality - need to make sure that we have access to all of the data, but we need to understand, more importantly, what data we restore first, what data we restore second, and so on - there needs to be very clear understanding of what applications are going to be used, and where the data is located for those applications."
   ]
  },
  {
   "cell_type": "markdown",
   "id": "2cc20932",
   "metadata": {},
   "source": [
    "***\n",
    "## END"
   ]
  },
  {
   "cell_type": "markdown",
   "id": "e0e42d51",
   "metadata": {},
   "source": [
    "< [Table of Contents](#top) >\n",
    "<a id=\"references\"></a>\n",
    "***\n",
    "## References\n",
    "***"
   ]
  },
  {
   "cell_type": "markdown",
   "id": "f8aaecbc",
   "metadata": {},
   "source": [
    "J. \"Professor\" Messer, \"CompTIA Security+ (SY0-601) Course Notes,\" [professormesser.com](https://web.archive.org/web/20220521181010/https://www.professormesser.com/security-plus/sy0-601/sy0-601-video/sy0-601-comptia-security-plus-course/), September 2021."
   ]
  },
  {
   "cell_type": "markdown",
   "id": "b33c372a",
   "metadata": {},
   "source": [
    "***\n",
    "## END"
   ]
  },
  {
   "cell_type": "markdown",
   "id": "e5961b4d",
   "metadata": {},
   "source": [
    "< [Table of Contents](#top) | [References](#references) >\n",
    "<a id=\"appendix\"></a>\n",
    "***\n",
    "## Appendix\n",
    "***"
   ]
  },
  {
   "cell_type": "markdown",
   "id": "00d82a82",
   "metadata": {},
   "source": [
    "***\n",
    "## END"
   ]
  },
  {
   "cell_type": "code",
   "execution_count": 1,
   "id": "706756a2",
   "metadata": {},
   "outputs": [
    {
     "name": "stderr",
     "output_type": "stream",
     "text": [
      "C:\\Users\\SeanOhAileasa\\AppData\\Local\\Temp\\ipykernel_15196\\1322614208.py:1: DeprecationWarning: Importing display from IPython.core.display is deprecated since IPython 7.14, please import from IPython display\n",
      "  from IPython.core.display import display,HTML\n"
     ]
    },
    {
     "data": {
      "text/html": [
       "<style>.container { width:100% !important; }</style>"
      ],
      "text/plain": [
       "<IPython.core.display.HTML object>"
      ]
     },
     "metadata": {},
     "output_type": "display_data"
    }
   ],
   "source": [
    "from IPython.core.display import display,HTML\n",
    "display(HTML(\"<style>.container { width:100% !important; }</style>\"))"
   ]
  },
  {
   "cell_type": "markdown",
   "id": "899c1783",
   "metadata": {},
   "source": [
    "# END JUPYTER NOTEBOOK"
   ]
  }
 ],
 "metadata": {
  "kernelspec": {
   "display_name": "Python 3 (ipykernel)",
   "language": "python",
   "name": "python3"
  },
  "language_info": {
   "codemirror_mode": {
    "name": "ipython",
    "version": 3
   },
   "file_extension": ".py",
   "mimetype": "text/x-python",
   "name": "python",
   "nbconvert_exporter": "python",
   "pygments_lexer": "ipython3",
   "version": "3.9.12"
  }
 },
 "nbformat": 4,
 "nbformat_minor": 5
}
