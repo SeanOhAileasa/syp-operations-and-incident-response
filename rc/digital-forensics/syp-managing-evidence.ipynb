{
 "cells": [
  {
   "cell_type": "markdown",
   "id": "d4ee9e4b",
   "metadata": {},
   "source": [
    "***\n",
    "< [Home](https://github.com/SeanOhAileasa) | [README](https://github.com/SeanOhAileasa/syp-operations-and-incident-response/blob/main/README.md) >\n",
    "\n",
    "## CompTIA Security+ - Course Material 2022\n",
    "###### Topic: ``Managing Evidence``\n",
    "***"
   ]
  },
  {
   "cell_type": "markdown",
   "id": "b82b07fb",
   "metadata": {},
   "source": [
    "Course material for the ``CompTIA Security+`` module of the ``ICT Associate Apprenticeship (Cybersecurity)`` programme."
   ]
  },
  {
   "cell_type": "markdown",
   "id": "e7228f57",
   "metadata": {},
   "source": [
    "<a id=\"top\"></a>\n",
    "***\n",
    "## Table of Contents\n",
    "***"
   ]
  },
  {
   "cell_type": "markdown",
   "id": "c2bb5e7b",
   "metadata": {},
   "source": [
    "### [Managing Evidence](#a) <br/><br/>\n",
    "\n",
    "- [Integrity](#b) <br/><br/>\n",
    "    - [Hash](#b) <br/><br/>\n",
    "    - [Checksum](#b) <br/><br/>\n",
    "    - [Provence](#b) <br/><br/>\n",
    "- [Preservation](#c) <br/><br/>\n",
    "- [E-discovery](#d) <br/><br/>\n",
    "- [Data Recovery](#e) <br/><br/>\n",
    "- [Non-repudiation - Message Authentication Code - MAC - Digital Signature](#f) <br/><br/>\n",
    "    - [Message Authentication Code](#f) <br/><br/>\n",
    "        - [``MAC``](#f) <br/><br/>\n",
    "    - [Digital Signature](#f) <br/><br/>\n",
    "- [Strategic Intelligence](#g) <br/><br/>\n",
    "    - [Counterintelligence](#h)\n",
    "<hr width=50%;>"
   ]
  },
  {
   "cell_type": "markdown",
   "id": "bf2b95e2",
   "metadata": {},
   "source": [
    "***\n",
    "## END"
   ]
  },
  {
   "cell_type": "markdown",
   "id": "34aa6eb5",
   "metadata": {},
   "source": [
    "< [Table of Contents](#top) | [References](#references) >\n",
    "<a id=\"a\"></a>\n",
    "***\n",
    "### Managing Evidence\n",
    "***"
   ]
  },
  {
   "cell_type": "markdown",
   "id": "84b00380",
   "metadata": {},
   "source": [
    "< [Table of Contents](#top) | [References](#references) >\n",
    "<a id=\"b\"></a>\n",
    "***\n",
    "###### Integrity - [Hash] - [Checksum] - [Provence]\n",
    "***"
   ]
  },
  {
   "cell_type": "markdown",
   "id": "7831d98d",
   "metadata": {},
   "source": [
    "When collecting data for evidence, you want to be sure that nothing is going to change with the information that you’ve collected - one way to ensure this is to create a ``hash`` of that data - this is a way to cryptographically verify that what you have collected is going to be exactly the same as what you’re examining later.\n",
    "\n",
    "Can think of this as a digital fingerprint - would take that fingerprint or create that hash when you first collect the data and then you would verify that hash whenever you perform the analysis to make sure that nothing has changed in the meantime.\n",
    "\n",
    "A relatively simple integrity check can be done with a ``checksum`` - this is very commonly done with network communication to make sure that the information that we’ve sent from one side of the network to the other has shown up without any type of corruption - this isn’t designed to replace a hash, but it does provide a simple integrity check that might be useful in certain situations.\n",
    "\n",
    "Also have to think about the original source of this data - refer to this as ``provenance`` - this provides us with documentation of where this data originated - also useful to have a chain of custody so you know exactly where this data has been since the time it was taken - this might even be an opportunity to take advantage of newer blockchain technologies that can provide more detailed tracking of information."
   ]
  },
  {
   "cell_type": "markdown",
   "id": "b4da2efe",
   "metadata": {},
   "source": [
    "< [Table of Contents](#top) | [References](#references) >\n",
    "<a id=\"c\"></a>\n",
    "***\n",
    "###### Preservation\n",
    "***"
   ]
  },
  {
   "cell_type": "markdown",
   "id": "d4cbc2f1",
   "metadata": {},
   "source": [
    "It’s important when working with data as evidence that we are able to preserve this information and to verify that nothing has changed with this information while it’s been stored. \n",
    "\n",
    "Commonly will take the original source of data and create a copy of that data, often imaging storage drives or copying everything that might be on a mobile device - this becomes especially useful for these mobile smartphones, since it is possible to remotely erase these devices.\n",
    "\n",
    "This is not always as simple as powering down the system, removing a drive, and then imaging the information that’s there, especially since many drives are configured with full disk encryption and powering down the system could cause all of that data to be inaccessible - often have to think about different techniques when we’re gathering this data, especially if encryption is in use.\n",
    "\n",
    "We want to be sure that when we’re gathering this information that we’re using the best practices - this will be especially useful if this information is being used later on in a court of law because they will be examining the process you took to gather these details."
   ]
  },
  {
   "cell_type": "markdown",
   "id": "7b10c3a2",
   "metadata": {},
   "source": [
    "< [Table of Contents](#top) | [References](#references) >\n",
    "<a id=\"d\"></a>\n",
    "***\n",
    "###### E-discovery\n",
    "***"
   ]
  },
  {
   "cell_type": "markdown",
   "id": "223af03e",
   "metadata": {},
   "source": [
    "There’s a legal mechanism used to gather information called discovery and when we apply this to digital technologies, it’s referred to as e-discovery. \n",
    "\n",
    "The process of e-discovery is about gathering the data - not examining the information - not analyzing the information that we’re gathering - simply going through a list of information that’s been requested, and we’re gathering all of those details, and providing it to the legal authorities.\n",
    "\n",
    "The process of e-discovery often works in conjunction with digital forensics, for example, with e-discovery, we may be requested to obtain a storage drive and provide that to the authorities. The authorities would then look at that drive and notice that the information on that drive is actually smaller than what they expected. At that point, they can bring in some digital forensics experts that can examine the drive and attempt to recover any data that may have been deleted."
   ]
  },
  {
   "cell_type": "markdown",
   "id": "1ce9ff85",
   "metadata": {},
   "source": [
    "< [Table of Contents](#top) | [References](#references) >\n",
    "<a id=\"e\"></a>\n",
    "***\n",
    "###### Data Recovery\n",
    "***"
   ]
  },
  {
   "cell_type": "markdown",
   "id": "e5cb6cb7",
   "metadata": {},
   "source": [
    "Recovering missing data can be a complex process - there’s no single way to go about recovering data, so it takes extensive training and knowledge to know exactly the best way to do it.\n",
    "\n",
    "The exact process someone might go through might vary based on whether the files were simply deleted on the drive:\n",
    "\n",
    "> Were the files deleted and then the recycle bin was deleted? \n",
    "\n",
    "> Or were the files simply hidden, but are still contained on the storage drive?\n",
    "\n",
    "> Was there corruption with the data associated with the operating system or the application? \n",
    "\n",
    "> Or was the storage media damaged itself? \n",
    "\n",
    "All of these situations can have some type of data recovery associated with them if we use the correct techniques."
   ]
  },
  {
   "cell_type": "markdown",
   "id": "d87809fd",
   "metadata": {},
   "source": [
    "< [Table of Contents](#top) | [References](#references) >\n",
    "<a id=\"f\"></a>\n",
    "***\n",
    "###### Non-repudiation - [Message Authentication Code - MAC] - [Digital Signature]\n",
    "***"
   ]
  },
  {
   "cell_type": "markdown",
   "id": "71071eb6",
   "metadata": {},
   "source": [
    "Another important part of this process is knowing exactly who sent the data originally - if we can ensure that the information that we’ve received is exactly what was sent and we can verify the person who sent it, then we have what’s called non-repudiation. \n",
    "\n",
    "With non-repudiation, we not only know who sent the data, but we have a high confidence of exactly who sent that information - this means that the only person who could have sent the data is that original sender.\n",
    "\n",
    "There are commonly two ways to provide non-repudiation: \n",
    "\n",
    "> Message Authentication Code (``MAC``)\n",
    "\n",
    "With ``MAC``, the two parties that are communicating back and forth are the two that can verify that non-repudiation \n",
    "\n",
    "> Digital Signature\n",
    "\n",
    "Anyone who has access to the public key of the person who wrote the information can verify that they sent it - this is obviously a much broader non-repudiation since it would be verified by anyone and not just the two parties in the conversation."
   ]
  },
  {
   "cell_type": "markdown",
   "id": "1256d7bf",
   "metadata": {},
   "source": [
    "< [Table of Contents](#top) | [References](#references) >\n",
    "<a id=\"g\"></a>\n",
    "***\n",
    "###### Strategic Intelligence \n",
    "***"
   ]
  },
  {
   "cell_type": "markdown",
   "id": "ec05df1a",
   "metadata": {},
   "source": [
    "Gathering evidence can also be done by using Strategic Intelligence - this is when we are focusing on a domain and gathering threat information about that domain - might want to look at business information, geographic information, or details about a specific country.\n",
    "\n",
    "Might get much of this information from threat reports that we create internally or information that we’re gathering from a third-party - there might also be other data sources, especially with open source intelligence or OSIT that could even provide additional details.\n",
    "\n",
    "If we’re looking at information over an extended period of time, we may be able to track certain trends that would give us more information about the threat."
   ]
  },
  {
   "cell_type": "markdown",
   "id": "b896337b",
   "metadata": {},
   "source": [
    "< [Table of Contents](#top) | [References](#references) >\n",
    "<a id=\"h\"></a>\n",
    "***\n",
    "###### Counterintelligence\n",
    "***"
   ]
  },
  {
   "cell_type": "markdown",
   "id": "56c35df9",
   "metadata": {},
   "source": [
    "If we’re the subject of someone’s Strategic Intelligence, we may want to prevent that intelligence from occurring and instead, we would perform strategic Counterintelligence (``CI``). \n",
    "\n",
    "With ``CI``, we would identify someone trying to gather information on us and we would attempt to disrupt that process and then we would begin gathering our own threat intelligence on that foreign operation."
   ]
  },
  {
   "cell_type": "markdown",
   "id": "2cc20932",
   "metadata": {},
   "source": [
    "***\n",
    "## END"
   ]
  },
  {
   "cell_type": "markdown",
   "id": "e0e42d51",
   "metadata": {},
   "source": [
    "< [Table of Contents](#top) >\n",
    "<a id=\"references\"></a>\n",
    "***\n",
    "## References\n",
    "***"
   ]
  },
  {
   "cell_type": "markdown",
   "id": "f8aaecbc",
   "metadata": {},
   "source": [
    "J. \"Professor\" Messer, \"CompTIA Security+ (SY0-601) Course Notes,\" [professormesser.com](https://web.archive.org/web/20220521181010/https://www.professormesser.com/security-plus/sy0-601/sy0-601-video/sy0-601-comptia-security-plus-course/), September 2021."
   ]
  },
  {
   "cell_type": "markdown",
   "id": "b33c372a",
   "metadata": {},
   "source": [
    "***\n",
    "## END"
   ]
  },
  {
   "cell_type": "markdown",
   "id": "e5961b4d",
   "metadata": {},
   "source": [
    "< [Table of Contents](#top) | [References](#references) >\n",
    "<a id=\"appendix\"></a>\n",
    "***\n",
    "## Appendix\n",
    "***"
   ]
  },
  {
   "cell_type": "markdown",
   "id": "00d82a82",
   "metadata": {},
   "source": [
    "***\n",
    "## END"
   ]
  },
  {
   "cell_type": "code",
   "execution_count": 1,
   "id": "706756a2",
   "metadata": {},
   "outputs": [
    {
     "name": "stderr",
     "output_type": "stream",
     "text": [
      "C:\\Users\\SeanOhAileasa\\AppData\\Local\\Temp\\ipykernel_7212\\1322614208.py:1: DeprecationWarning: Importing display from IPython.core.display is deprecated since IPython 7.14, please import from IPython display\n",
      "  from IPython.core.display import display,HTML\n"
     ]
    },
    {
     "data": {
      "text/html": [
       "<style>.container { width:100% !important; }</style>"
      ],
      "text/plain": [
       "<IPython.core.display.HTML object>"
      ]
     },
     "metadata": {},
     "output_type": "display_data"
    }
   ],
   "source": [
    "from IPython.core.display import display,HTML\n",
    "display(HTML(\"<style>.container { width:100% !important; }</style>\"))"
   ]
  },
  {
   "cell_type": "markdown",
   "id": "899c1783",
   "metadata": {},
   "source": [
    "# END JUPYTER NOTEBOOK"
   ]
  }
 ],
 "metadata": {
  "kernelspec": {
   "display_name": "Python 3 (ipykernel)",
   "language": "python",
   "name": "python3"
  },
  "language_info": {
   "codemirror_mode": {
    "name": "ipython",
    "version": 3
   },
   "file_extension": ".py",
   "mimetype": "text/x-python",
   "name": "python",
   "nbconvert_exporter": "python",
   "pygments_lexer": "ipython3",
   "version": "3.9.12"
  }
 },
 "nbformat": 4,
 "nbformat_minor": 5
}
