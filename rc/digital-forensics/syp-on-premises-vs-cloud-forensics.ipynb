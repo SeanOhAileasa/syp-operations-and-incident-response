{
 "cells": [
  {
   "cell_type": "markdown",
   "id": "d4ee9e4b",
   "metadata": {},
   "source": [
    "***\n",
    "< [Home](https://github.com/SeanOhAileasa) | [README](https://github.com/SeanOhAileasa/syp-operations-and-incident-response/blob/main/README.md) >\n",
    "\n",
    "## CompTIA Security+ - Course Material 2022\n",
    "###### Topic: ``On-Premises vs. Cloud Forensics``\n",
    "***"
   ]
  },
  {
   "cell_type": "markdown",
   "id": "b82b07fb",
   "metadata": {},
   "source": [
    "Course material for the ``CompTIA Security+`` module of the ``ICT Associate Apprenticeship (Cybersecurity)`` programme."
   ]
  },
  {
   "cell_type": "markdown",
   "id": "e7228f57",
   "metadata": {},
   "source": [
    "<a id=\"top\"></a>\n",
    "***\n",
    "## Table of Contents\n",
    "***"
   ]
  },
  {
   "cell_type": "markdown",
   "id": "c2bb5e7b",
   "metadata": {},
   "source": [
    "### [On-Premises vs. Cloud Forensics](#a) <br/><br/>\n",
    "\n",
    "- [Forensics in the Cloud](#b) <br/><br/>\n",
    "- [Right-to-audit Clauses](#c) <br/><br/>\n",
    "- [Regulatory - Jurisdiction](#d) <br/><br/>\n",
    "- [Data Breach Notification Laws](#e) \n",
    "<hr width=50%;>"
   ]
  },
  {
   "cell_type": "markdown",
   "id": "bf2b95e2",
   "metadata": {},
   "source": [
    "***\n",
    "## END"
   ]
  },
  {
   "cell_type": "markdown",
   "id": "34aa6eb5",
   "metadata": {},
   "source": [
    "< [Table of Contents](#top) | [References](#references) >\n",
    "<a id=\"a\"></a>\n",
    "***\n",
    "### On-Premises vs. Cloud Forensics\n",
    "***"
   ]
  },
  {
   "cell_type": "markdown",
   "id": "84b00380",
   "metadata": {},
   "source": [
    "< [Table of Contents](#top) | [References](#references) >\n",
    "<a id=\"b\"></a>\n",
    "***\n",
    "###### Forensics in the Cloud\n",
    "***"
   ]
  },
  {
   "cell_type": "markdown",
   "id": "220f501f",
   "metadata": {},
   "source": [
    "Up to this point, have been describing our digital forensics process with devices that would be in our possession - would be a computer, a laptop, a mobile device of some kind, but we also need to think about how we perform digital forensics to devices that may be in the cloud. \n",
    "\n",
    "Obviously cloud-based services are not in our immediate possession, we don’t have physical access to these devices, in fact, we may have very limited access to this particular device because it is located in another facility, that is somewhere in the cloud.\n",
    "\n",
    "It might also be very difficult to associate cloud-based data to one specific user - there are many people accessing this cloud-based service simultaneously, and picking out an individual’s piece of data may add additional complexity to the forensics process. \n",
    "\n",
    "There might also be legal issues associated with this cloud-based data, especially since the rules and regulations around this data may be different depending on where you are in the world, and where the data may be located."
   ]
  },
  {
   "cell_type": "markdown",
   "id": "b4da2efe",
   "metadata": {},
   "source": [
    "< [Table of Contents](#top) | [References](#references) >\n",
    "<a id=\"c\"></a>\n",
    "***\n",
    "###### Right-to-audit Clauses\n",
    "***"
   ]
  },
  {
   "cell_type": "markdown",
   "id": "b446ad69",
   "metadata": {},
   "source": [
    "Before needing to access this cloud-based data for forensics purposes, it would be valuable to have already created an agreement on how this data could be accessed - working with a cloud provider, or a business partner, it will be useful to qualify how the data should be shared and how the outsourcing agreement would work. \n",
    "\n",
    "Might also have a concern about how safe this data might be at a third-party provider, so it’s not uncommon to work with that provider to create a right-to-audit clause in the agreement. That would give you permission to know where the data is being held, how the data is being accessed over the internet, and what security features may be in place to protect that data.\n",
    "\n",
    "As the initial contract with the cloud provider is being created, a right-to-audit clause can be added that would specify how you would be able to create a security audit of that data. Everyone would agree to those terms and conditions and the contract will be signed - this would allow you access to perform security audits and to make sure the data’s safe, well before you would run into the situation where a security breach might occur."
   ]
  },
  {
   "cell_type": "markdown",
   "id": "7b10c3a2",
   "metadata": {},
   "source": [
    "< [Table of Contents](#top) | [References](#references) >\n",
    "<a id=\"d\"></a>\n",
    "***\n",
    "###### Regulatory - Jurisdiction\n",
    "***"
   ]
  },
  {
   "cell_type": "markdown",
   "id": "d9de24a9",
   "metadata": {},
   "source": [
    "The technology behind cloud computing is evolving rapidly, and the legal system is trying to catch up with all of these changes with the technology. \n",
    "\n",
    "This is why it’s going to be important for forensics professionals to work very closely with the legal team, especially if they’re looking at data that may be located in a different location. The regulations regarding the use and access to data in one location may be very different than the rules in another location. \n",
    "\n",
    "If describing a cloud-based application, the data may be located in a completely different country. In that particular case, the physical location of the data center may determine the legal jurisdiction for that data. From a forensics perspective, this could work against you when you’re trying to perform any type of analysis, for example, some countries don’t allow any type of electronic searches if the search is coming from outside of their country, so it may be very important to include your legal team as you’re stepping through the process of digital forensics in these cloud-based locations."
   ]
  },
  {
   "cell_type": "markdown",
   "id": "1ce9ff85",
   "metadata": {},
   "source": [
    "< [Table of Contents](#top) | [References](#references) >\n",
    "<a id=\"e\"></a>\n",
    "***\n",
    "###### Data Breach Notification Laws\n",
    "***"
   ]
  },
  {
   "cell_type": "markdown",
   "id": "4e26b5cb",
   "metadata": {},
   "source": [
    "Another concern are the notification laws associated with data breaches and how they would affect you depending on where the data may be located. \n",
    "\n",
    "Many states or countries have laws or regulations that state, if any consumer data happens to be breached, then the consumers must be informed of that situation. \n",
    "\n",
    "Like the legal issues we have regarding where the data is stored, the data breach notification laws may be different depending on where that data would be stored - if you have a cloud-based application, you may be storing information from all countries into a single database and a breach of that data may have a very broad impact on who gets notified.\n",
    "\n",
    "Might also find that the notification requirements might be very different depending on the geography - there might be rules and regulations regarding the type of data that is breached, and what type of notification should be made, so if the breach is only someone’s name or email, is that different than if it’s their name, email address, and telephone number.\n",
    "\n",
    "It’s also important to know who needs to be notified if a breach occurs, and how quickly you would need to notify them after a breach has been identified."
   ]
  },
  {
   "cell_type": "markdown",
   "id": "2cc20932",
   "metadata": {},
   "source": [
    "***\n",
    "## END"
   ]
  },
  {
   "cell_type": "markdown",
   "id": "e0e42d51",
   "metadata": {},
   "source": [
    "< [Table of Contents](#top) >\n",
    "<a id=\"references\"></a>\n",
    "***\n",
    "## References\n",
    "***"
   ]
  },
  {
   "cell_type": "markdown",
   "id": "f8aaecbc",
   "metadata": {},
   "source": [
    "J. \"Professor\" Messer, \"CompTIA Security+ (SY0-601) Course Notes,\" [professormesser.com](https://web.archive.org/web/20220521181010/https://www.professormesser.com/security-plus/sy0-601/sy0-601-video/sy0-601-comptia-security-plus-course/), September 2021."
   ]
  },
  {
   "cell_type": "markdown",
   "id": "b33c372a",
   "metadata": {},
   "source": [
    "***\n",
    "## END"
   ]
  },
  {
   "cell_type": "markdown",
   "id": "e5961b4d",
   "metadata": {},
   "source": [
    "< [Table of Contents](#top) | [References](#references) >\n",
    "<a id=\"appendix\"></a>\n",
    "***\n",
    "## Appendix\n",
    "***"
   ]
  },
  {
   "cell_type": "markdown",
   "id": "00d82a82",
   "metadata": {},
   "source": [
    "***\n",
    "## END"
   ]
  },
  {
   "cell_type": "code",
   "execution_count": 1,
   "id": "706756a2",
   "metadata": {},
   "outputs": [
    {
     "name": "stderr",
     "output_type": "stream",
     "text": [
      "C:\\Users\\SeanOhAileasa\\AppData\\Local\\Temp\\ipykernel_15792\\1322614208.py:1: DeprecationWarning: Importing display from IPython.core.display is deprecated since IPython 7.14, please import from IPython display\n",
      "  from IPython.core.display import display,HTML\n"
     ]
    },
    {
     "data": {
      "text/html": [
       "<style>.container { width:100% !important; }</style>"
      ],
      "text/plain": [
       "<IPython.core.display.HTML object>"
      ]
     },
     "metadata": {},
     "output_type": "display_data"
    }
   ],
   "source": [
    "from IPython.core.display import display,HTML\n",
    "display(HTML(\"<style>.container { width:100% !important; }</style>\"))"
   ]
  },
  {
   "cell_type": "markdown",
   "id": "899c1783",
   "metadata": {},
   "source": [
    "# END JUPYTER NOTEBOOK"
   ]
  }
 ],
 "metadata": {
  "kernelspec": {
   "display_name": "Python 3 (ipykernel)",
   "language": "python",
   "name": "python3"
  },
  "language_info": {
   "codemirror_mode": {
    "name": "ipython",
    "version": 3
   },
   "file_extension": ".py",
   "mimetype": "text/x-python",
   "name": "python",
   "nbconvert_exporter": "python",
   "pygments_lexer": "ipython3",
   "version": "3.9.12"
  }
 },
 "nbformat": 4,
 "nbformat_minor": 5
}
